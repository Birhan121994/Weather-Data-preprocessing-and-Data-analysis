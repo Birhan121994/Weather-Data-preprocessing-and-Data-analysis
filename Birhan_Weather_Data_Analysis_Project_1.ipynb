{
 "cells": [
  {
   "cell_type": "markdown",
   "id": "88e2cb5f",
   "metadata": {
    "hide_input": true
   },
   "source": [
    "![](download.png)"
   ]
  },
  {
   "cell_type": "markdown",
   "id": "1fa97250",
   "metadata": {
    "heading_collapsed": true
   },
   "source": [
    "## Scenario\n",
    "I am working on a data analysis project in Ethio clicks company. The CEO wants me to analayse a dataset which is related within the ethiopian context. The dataset that I chose for these project is a weather dataset that could be analysed and prepared to be trained for an AI based weather forecasting system."
   ]
  },
  {
   "cell_type": "markdown",
   "id": "948e43af",
   "metadata": {
    "hide_input": true
   },
   "source": [
    "## Step1: Importing important liberaries and load dataset\n"
   ]
  },
  {
   "cell_type": "markdown",
   "id": "700337f8",
   "metadata": {},
   "source": [
    "### Importing Liberay"
   ]
  },
  {
   "cell_type": "code",
   "execution_count": 2,
   "id": "0d897605",
   "metadata": {},
   "outputs": [],
   "source": [
    "#Import Important liberaries for these project\n",
    "#! pip install https://github.com/pandas-profiling/pandas-profiling/archive/master.zip\n",
    "#import os\n",
    "#os._exit(00)\n",
    "import pandas as pd\n",
    "# import pandas_profiling\n",
    "# from pandas_profiling import ProfileReport\n",
    "import numpy as np\n",
    "import matplotlib.pyplot as plt\n",
    "# import sklearn\n",
    "# import pywedge as py"
   ]
  },
  {
   "cell_type": "markdown",
   "id": "3626081c",
   "metadata": {},
   "source": [
    "###  Loading Data"
   ]
  },
  {
   "cell_type": "code",
   "execution_count": 4,
   "id": "b2953cf8",
   "metadata": {
    "hide_input": false
   },
   "outputs": [
    {
     "data": {
      "text/html": [
       "<div>\n",
       "<style scoped>\n",
       "    .dataframe tbody tr th:only-of-type {\n",
       "        vertical-align: middle;\n",
       "    }\n",
       "\n",
       "    .dataframe tbody tr th {\n",
       "        vertical-align: top;\n",
       "    }\n",
       "\n",
       "    .dataframe thead th {\n",
       "        text-align: right;\n",
       "    }\n",
       "</style>\n",
       "<table border=\"1\" class=\"dataframe\">\n",
       "  <thead>\n",
       "    <tr style=\"text-align: right;\">\n",
       "      <th></th>\n",
       "      <th>Formatted Date</th>\n",
       "      <th>Summary</th>\n",
       "      <th>Precip Type</th>\n",
       "      <th>Temperature (C)</th>\n",
       "      <th>Apparent Temperature (C)</th>\n",
       "      <th>Humidity</th>\n",
       "      <th>Wind Speed (km/h)</th>\n",
       "      <th>Wind Bearing (degrees)</th>\n",
       "      <th>Visibility (km)</th>\n",
       "      <th>Loud Cover</th>\n",
       "      <th>Pressure (millibars)</th>\n",
       "      <th>Daily Summary</th>\n",
       "    </tr>\n",
       "  </thead>\n",
       "  <tbody>\n",
       "    <tr>\n",
       "      <th>0</th>\n",
       "      <td>2006-04-01 00:00:00.000 +0200</td>\n",
       "      <td>Partly Cloudy</td>\n",
       "      <td>rain</td>\n",
       "      <td>9.472222</td>\n",
       "      <td>7.388889</td>\n",
       "      <td>0.89</td>\n",
       "      <td>14.1197</td>\n",
       "      <td>251.0</td>\n",
       "      <td>15.8263</td>\n",
       "      <td>0.0</td>\n",
       "      <td>1015.13</td>\n",
       "      <td>Partly cloudy throughout the day.</td>\n",
       "    </tr>\n",
       "    <tr>\n",
       "      <th>1</th>\n",
       "      <td>2006-04-01 01:00:00.000 +0200</td>\n",
       "      <td>Partly Cloudy</td>\n",
       "      <td>rain</td>\n",
       "      <td>9.355556</td>\n",
       "      <td>7.227778</td>\n",
       "      <td>0.86</td>\n",
       "      <td>14.2646</td>\n",
       "      <td>259.0</td>\n",
       "      <td>15.8263</td>\n",
       "      <td>0.0</td>\n",
       "      <td>1015.63</td>\n",
       "      <td>Partly cloudy throughout the day.</td>\n",
       "    </tr>\n",
       "  </tbody>\n",
       "</table>\n",
       "</div>"
      ],
      "text/plain": [
       "                  Formatted Date        Summary Precip Type  Temperature (C)  \\\n",
       "0  2006-04-01 00:00:00.000 +0200  Partly Cloudy        rain         9.472222   \n",
       "1  2006-04-01 01:00:00.000 +0200  Partly Cloudy        rain         9.355556   \n",
       "\n",
       "   Apparent Temperature (C)  Humidity  Wind Speed (km/h)  \\\n",
       "0                  7.388889      0.89            14.1197   \n",
       "1                  7.227778      0.86            14.2646   \n",
       "\n",
       "   Wind Bearing (degrees)  Visibility (km)  Loud Cover  Pressure (millibars)  \\\n",
       "0                   251.0          15.8263         0.0               1015.13   \n",
       "1                   259.0          15.8263         0.0               1015.63   \n",
       "\n",
       "                       Daily Summary  \n",
       "0  Partly cloudy throughout the day.  \n",
       "1  Partly cloudy throughout the day.  "
      ]
     },
     "execution_count": 4,
     "metadata": {},
     "output_type": "execute_result"
    }
   ],
   "source": [
    "#Load Important DataSet For These Project\n",
    "Weather_Data_Set = pd.read_csv('data/weatherHistory.csv')\n",
    "#Display And View The DataSet in Tabular Form\n",
    "Weather_Data_Set.head(2)"
   ]
  },
  {
   "cell_type": "markdown",
   "id": "c87bd9e9",
   "metadata": {
    "hide_input": true
   },
   "source": [
    "#### Inspect the top 5 data and the bottom 5 data"
   ]
  },
  {
   "cell_type": "code",
   "execution_count": 3,
   "id": "76b7752d",
   "metadata": {},
   "outputs": [
    {
     "data": {
      "text/html": [
       "<div>\n",
       "<style scoped>\n",
       "    .dataframe tbody tr th:only-of-type {\n",
       "        vertical-align: middle;\n",
       "    }\n",
       "\n",
       "    .dataframe tbody tr th {\n",
       "        vertical-align: top;\n",
       "    }\n",
       "\n",
       "    .dataframe thead th {\n",
       "        text-align: right;\n",
       "    }\n",
       "</style>\n",
       "<table border=\"1\" class=\"dataframe\">\n",
       "  <thead>\n",
       "    <tr style=\"text-align: right;\">\n",
       "      <th></th>\n",
       "      <th>Formatted Date</th>\n",
       "      <th>Summary</th>\n",
       "      <th>Precip Type</th>\n",
       "      <th>Temperature (C)</th>\n",
       "      <th>Apparent Temperature (C)</th>\n",
       "      <th>Humidity</th>\n",
       "      <th>Wind Speed (km/h)</th>\n",
       "      <th>Wind Bearing (degrees)</th>\n",
       "      <th>Visibility (km)</th>\n",
       "      <th>Loud Cover</th>\n",
       "      <th>Pressure (millibars)</th>\n",
       "      <th>Daily Summary</th>\n",
       "    </tr>\n",
       "  </thead>\n",
       "  <tbody>\n",
       "    <tr>\n",
       "      <th>0</th>\n",
       "      <td>2006-04-01 00:00:00.000 +0200</td>\n",
       "      <td>Partly Cloudy</td>\n",
       "      <td>rain</td>\n",
       "      <td>9.472222</td>\n",
       "      <td>7.388889</td>\n",
       "      <td>0.89</td>\n",
       "      <td>14.1197</td>\n",
       "      <td>251.0</td>\n",
       "      <td>15.8263</td>\n",
       "      <td>0.0</td>\n",
       "      <td>1015.13</td>\n",
       "      <td>Partly cloudy throughout the day.</td>\n",
       "    </tr>\n",
       "    <tr>\n",
       "      <th>1</th>\n",
       "      <td>2006-04-01 01:00:00.000 +0200</td>\n",
       "      <td>Partly Cloudy</td>\n",
       "      <td>rain</td>\n",
       "      <td>9.355556</td>\n",
       "      <td>7.227778</td>\n",
       "      <td>0.86</td>\n",
       "      <td>14.2646</td>\n",
       "      <td>259.0</td>\n",
       "      <td>15.8263</td>\n",
       "      <td>0.0</td>\n",
       "      <td>1015.63</td>\n",
       "      <td>Partly cloudy throughout the day.</td>\n",
       "    </tr>\n",
       "    <tr>\n",
       "      <th>2</th>\n",
       "      <td>2006-04-01 02:00:00.000 +0200</td>\n",
       "      <td>Mostly Cloudy</td>\n",
       "      <td>rain</td>\n",
       "      <td>9.377778</td>\n",
       "      <td>9.377778</td>\n",
       "      <td>0.89</td>\n",
       "      <td>3.9284</td>\n",
       "      <td>204.0</td>\n",
       "      <td>14.9569</td>\n",
       "      <td>0.0</td>\n",
       "      <td>1015.94</td>\n",
       "      <td>Partly cloudy throughout the day.</td>\n",
       "    </tr>\n",
       "    <tr>\n",
       "      <th>3</th>\n",
       "      <td>2006-04-01 03:00:00.000 +0200</td>\n",
       "      <td>Partly Cloudy</td>\n",
       "      <td>rain</td>\n",
       "      <td>8.288889</td>\n",
       "      <td>5.944444</td>\n",
       "      <td>0.83</td>\n",
       "      <td>14.1036</td>\n",
       "      <td>269.0</td>\n",
       "      <td>15.8263</td>\n",
       "      <td>0.0</td>\n",
       "      <td>1016.41</td>\n",
       "      <td>Partly cloudy throughout the day.</td>\n",
       "    </tr>\n",
       "    <tr>\n",
       "      <th>4</th>\n",
       "      <td>2006-04-01 04:00:00.000 +0200</td>\n",
       "      <td>Mostly Cloudy</td>\n",
       "      <td>rain</td>\n",
       "      <td>8.755556</td>\n",
       "      <td>6.977778</td>\n",
       "      <td>0.83</td>\n",
       "      <td>11.0446</td>\n",
       "      <td>259.0</td>\n",
       "      <td>15.8263</td>\n",
       "      <td>0.0</td>\n",
       "      <td>1016.51</td>\n",
       "      <td>Partly cloudy throughout the day.</td>\n",
       "    </tr>\n",
       "  </tbody>\n",
       "</table>\n",
       "</div>"
      ],
      "text/plain": [
       "                  Formatted Date        Summary Precip Type  Temperature (C)  \\\n",
       "0  2006-04-01 00:00:00.000 +0200  Partly Cloudy        rain         9.472222   \n",
       "1  2006-04-01 01:00:00.000 +0200  Partly Cloudy        rain         9.355556   \n",
       "2  2006-04-01 02:00:00.000 +0200  Mostly Cloudy        rain         9.377778   \n",
       "3  2006-04-01 03:00:00.000 +0200  Partly Cloudy        rain         8.288889   \n",
       "4  2006-04-01 04:00:00.000 +0200  Mostly Cloudy        rain         8.755556   \n",
       "\n",
       "   Apparent Temperature (C)  Humidity  Wind Speed (km/h)  \\\n",
       "0                  7.388889      0.89            14.1197   \n",
       "1                  7.227778      0.86            14.2646   \n",
       "2                  9.377778      0.89             3.9284   \n",
       "3                  5.944444      0.83            14.1036   \n",
       "4                  6.977778      0.83            11.0446   \n",
       "\n",
       "   Wind Bearing (degrees)  Visibility (km)  Loud Cover  Pressure (millibars)  \\\n",
       "0                   251.0          15.8263         0.0               1015.13   \n",
       "1                   259.0          15.8263         0.0               1015.63   \n",
       "2                   204.0          14.9569         0.0               1015.94   \n",
       "3                   269.0          15.8263         0.0               1016.41   \n",
       "4                   259.0          15.8263         0.0               1016.51   \n",
       "\n",
       "                       Daily Summary  \n",
       "0  Partly cloudy throughout the day.  \n",
       "1  Partly cloudy throughout the day.  \n",
       "2  Partly cloudy throughout the day.  \n",
       "3  Partly cloudy throughout the day.  \n",
       "4  Partly cloudy throughout the day.  "
      ]
     },
     "execution_count": 3,
     "metadata": {},
     "output_type": "execute_result"
    }
   ],
   "source": [
    "# The Top 5 data that are found in the weather dataset\n",
    "Weather_Data_Set.head(5)"
   ]
  },
  {
   "cell_type": "code",
   "execution_count": 4,
   "id": "5d11c83a",
   "metadata": {},
   "outputs": [
    {
     "data": {
      "text/html": [
       "<div>\n",
       "<style scoped>\n",
       "    .dataframe tbody tr th:only-of-type {\n",
       "        vertical-align: middle;\n",
       "    }\n",
       "\n",
       "    .dataframe tbody tr th {\n",
       "        vertical-align: top;\n",
       "    }\n",
       "\n",
       "    .dataframe thead th {\n",
       "        text-align: right;\n",
       "    }\n",
       "</style>\n",
       "<table border=\"1\" class=\"dataframe\">\n",
       "  <thead>\n",
       "    <tr style=\"text-align: right;\">\n",
       "      <th></th>\n",
       "      <th>Formatted Date</th>\n",
       "      <th>Summary</th>\n",
       "      <th>Precip Type</th>\n",
       "      <th>Temperature (C)</th>\n",
       "      <th>Apparent Temperature (C)</th>\n",
       "      <th>Humidity</th>\n",
       "      <th>Wind Speed (km/h)</th>\n",
       "      <th>Wind Bearing (degrees)</th>\n",
       "      <th>Visibility (km)</th>\n",
       "      <th>Loud Cover</th>\n",
       "      <th>Pressure (millibars)</th>\n",
       "      <th>Daily Summary</th>\n",
       "    </tr>\n",
       "  </thead>\n",
       "  <tbody>\n",
       "    <tr>\n",
       "      <th>96448</th>\n",
       "      <td>2016-09-09 19:00:00.000 +0200</td>\n",
       "      <td>Partly Cloudy</td>\n",
       "      <td>rain</td>\n",
       "      <td>26.016667</td>\n",
       "      <td>26.016667</td>\n",
       "      <td>0.43</td>\n",
       "      <td>10.9963</td>\n",
       "      <td>31.0</td>\n",
       "      <td>16.1000</td>\n",
       "      <td>0.0</td>\n",
       "      <td>1014.36</td>\n",
       "      <td>Partly cloudy starting in the morning.</td>\n",
       "    </tr>\n",
       "    <tr>\n",
       "      <th>96449</th>\n",
       "      <td>2016-09-09 20:00:00.000 +0200</td>\n",
       "      <td>Partly Cloudy</td>\n",
       "      <td>rain</td>\n",
       "      <td>24.583333</td>\n",
       "      <td>24.583333</td>\n",
       "      <td>0.48</td>\n",
       "      <td>10.0947</td>\n",
       "      <td>20.0</td>\n",
       "      <td>15.5526</td>\n",
       "      <td>0.0</td>\n",
       "      <td>1015.16</td>\n",
       "      <td>Partly cloudy starting in the morning.</td>\n",
       "    </tr>\n",
       "    <tr>\n",
       "      <th>96450</th>\n",
       "      <td>2016-09-09 21:00:00.000 +0200</td>\n",
       "      <td>Partly Cloudy</td>\n",
       "      <td>rain</td>\n",
       "      <td>22.038889</td>\n",
       "      <td>22.038889</td>\n",
       "      <td>0.56</td>\n",
       "      <td>8.9838</td>\n",
       "      <td>30.0</td>\n",
       "      <td>16.1000</td>\n",
       "      <td>0.0</td>\n",
       "      <td>1015.66</td>\n",
       "      <td>Partly cloudy starting in the morning.</td>\n",
       "    </tr>\n",
       "    <tr>\n",
       "      <th>96451</th>\n",
       "      <td>2016-09-09 22:00:00.000 +0200</td>\n",
       "      <td>Partly Cloudy</td>\n",
       "      <td>rain</td>\n",
       "      <td>21.522222</td>\n",
       "      <td>21.522222</td>\n",
       "      <td>0.60</td>\n",
       "      <td>10.5294</td>\n",
       "      <td>20.0</td>\n",
       "      <td>16.1000</td>\n",
       "      <td>0.0</td>\n",
       "      <td>1015.95</td>\n",
       "      <td>Partly cloudy starting in the morning.</td>\n",
       "    </tr>\n",
       "    <tr>\n",
       "      <th>96452</th>\n",
       "      <td>2016-09-09 23:00:00.000 +0200</td>\n",
       "      <td>Partly Cloudy</td>\n",
       "      <td>rain</td>\n",
       "      <td>20.438889</td>\n",
       "      <td>20.438889</td>\n",
       "      <td>0.61</td>\n",
       "      <td>5.8765</td>\n",
       "      <td>39.0</td>\n",
       "      <td>15.5204</td>\n",
       "      <td>0.0</td>\n",
       "      <td>1016.16</td>\n",
       "      <td>Partly cloudy starting in the morning.</td>\n",
       "    </tr>\n",
       "  </tbody>\n",
       "</table>\n",
       "</div>"
      ],
      "text/plain": [
       "                      Formatted Date        Summary Precip Type  \\\n",
       "96448  2016-09-09 19:00:00.000 +0200  Partly Cloudy        rain   \n",
       "96449  2016-09-09 20:00:00.000 +0200  Partly Cloudy        rain   \n",
       "96450  2016-09-09 21:00:00.000 +0200  Partly Cloudy        rain   \n",
       "96451  2016-09-09 22:00:00.000 +0200  Partly Cloudy        rain   \n",
       "96452  2016-09-09 23:00:00.000 +0200  Partly Cloudy        rain   \n",
       "\n",
       "       Temperature (C)  Apparent Temperature (C)  Humidity  Wind Speed (km/h)  \\\n",
       "96448        26.016667                 26.016667      0.43            10.9963   \n",
       "96449        24.583333                 24.583333      0.48            10.0947   \n",
       "96450        22.038889                 22.038889      0.56             8.9838   \n",
       "96451        21.522222                 21.522222      0.60            10.5294   \n",
       "96452        20.438889                 20.438889      0.61             5.8765   \n",
       "\n",
       "       Wind Bearing (degrees)  Visibility (km)  Loud Cover  \\\n",
       "96448                    31.0          16.1000         0.0   \n",
       "96449                    20.0          15.5526         0.0   \n",
       "96450                    30.0          16.1000         0.0   \n",
       "96451                    20.0          16.1000         0.0   \n",
       "96452                    39.0          15.5204         0.0   \n",
       "\n",
       "       Pressure (millibars)                           Daily Summary  \n",
       "96448               1014.36  Partly cloudy starting in the morning.  \n",
       "96449               1015.16  Partly cloudy starting in the morning.  \n",
       "96450               1015.66  Partly cloudy starting in the morning.  \n",
       "96451               1015.95  Partly cloudy starting in the morning.  \n",
       "96452               1016.16  Partly cloudy starting in the morning.  "
      ]
     },
     "execution_count": 4,
     "metadata": {},
     "output_type": "execute_result"
    }
   ],
   "source": [
    "# The Bottom 5 data that are found in the weather dataset\n",
    "Weather_Data_Set.tail(5)"
   ]
  },
  {
   "cell_type": "markdown",
   "id": "5f1fe902",
   "metadata": {
    "heading_collapsed": true,
    "hide_input": false
   },
   "source": [
    "## Step2: Explore DataSet"
   ]
  },
  {
   "cell_type": "markdown",
   "id": "9e7e401a",
   "metadata": {
    "heading_collapsed": true,
    "hidden": true
   },
   "source": [
    "###  Exploring Basic Information about the weather Dataset in traditional way."
   ]
  },
  {
   "cell_type": "code",
   "execution_count": 5,
   "id": "e8c5659d",
   "metadata": {
    "hidden": true
   },
   "outputs": [
    {
     "name": "stdout",
     "output_type": "stream",
     "text": [
      "<class 'pandas.core.frame.DataFrame'>\n",
      "RangeIndex: 96453 entries, 0 to 96452\n",
      "Data columns (total 12 columns):\n",
      " #   Column                    Non-Null Count  Dtype  \n",
      "---  ------                    --------------  -----  \n",
      " 0   Formatted Date            96453 non-null  object \n",
      " 1   Summary                   96453 non-null  object \n",
      " 2   Precip Type               95936 non-null  object \n",
      " 3   Temperature (C)           96453 non-null  float64\n",
      " 4   Apparent Temperature (C)  96453 non-null  float64\n",
      " 5   Humidity                  96453 non-null  float64\n",
      " 6   Wind Speed (km/h)         96453 non-null  float64\n",
      " 7   Wind Bearing (degrees)    96453 non-null  float64\n",
      " 8   Visibility (km)           96453 non-null  float64\n",
      " 9   Loud Cover                96453 non-null  float64\n",
      " 10  Pressure (millibars)      96453 non-null  float64\n",
      " 11  Daily Summary             96453 non-null  object \n",
      "dtypes: float64(8), object(4)\n",
      "memory usage: 8.8+ MB\n"
     ]
    }
   ],
   "source": [
    "# Basic Info About The Weather DataFrame\n",
    "Weather_Data_Set.info()"
   ]
  },
  {
   "cell_type": "code",
   "execution_count": 6,
   "id": "c99dc671",
   "metadata": {
    "hidden": true
   },
   "outputs": [
    {
     "data": {
      "text/html": [
       "<div>\n",
       "<style scoped>\n",
       "    .dataframe tbody tr th:only-of-type {\n",
       "        vertical-align: middle;\n",
       "    }\n",
       "\n",
       "    .dataframe tbody tr th {\n",
       "        vertical-align: top;\n",
       "    }\n",
       "\n",
       "    .dataframe thead th {\n",
       "        text-align: right;\n",
       "    }\n",
       "</style>\n",
       "<table border=\"1\" class=\"dataframe\">\n",
       "  <thead>\n",
       "    <tr style=\"text-align: right;\">\n",
       "      <th></th>\n",
       "      <th>Temperature (C)</th>\n",
       "      <th>Apparent Temperature (C)</th>\n",
       "      <th>Humidity</th>\n",
       "      <th>Wind Speed (km/h)</th>\n",
       "      <th>Wind Bearing (degrees)</th>\n",
       "      <th>Visibility (km)</th>\n",
       "      <th>Loud Cover</th>\n",
       "      <th>Pressure (millibars)</th>\n",
       "    </tr>\n",
       "  </thead>\n",
       "  <tbody>\n",
       "    <tr>\n",
       "      <th>count</th>\n",
       "      <td>96453.000000</td>\n",
       "      <td>96453.000000</td>\n",
       "      <td>96453.000000</td>\n",
       "      <td>96453.000000</td>\n",
       "      <td>96453.000000</td>\n",
       "      <td>96453.000000</td>\n",
       "      <td>96453.0</td>\n",
       "      <td>96453.000000</td>\n",
       "    </tr>\n",
       "    <tr>\n",
       "      <th>mean</th>\n",
       "      <td>11.932678</td>\n",
       "      <td>10.855029</td>\n",
       "      <td>0.734899</td>\n",
       "      <td>10.810640</td>\n",
       "      <td>187.509232</td>\n",
       "      <td>10.347325</td>\n",
       "      <td>0.0</td>\n",
       "      <td>1003.235956</td>\n",
       "    </tr>\n",
       "    <tr>\n",
       "      <th>std</th>\n",
       "      <td>9.551546</td>\n",
       "      <td>10.696847</td>\n",
       "      <td>0.195473</td>\n",
       "      <td>6.913571</td>\n",
       "      <td>107.383428</td>\n",
       "      <td>4.192123</td>\n",
       "      <td>0.0</td>\n",
       "      <td>116.969906</td>\n",
       "    </tr>\n",
       "    <tr>\n",
       "      <th>min</th>\n",
       "      <td>-21.822222</td>\n",
       "      <td>-27.716667</td>\n",
       "      <td>0.000000</td>\n",
       "      <td>0.000000</td>\n",
       "      <td>0.000000</td>\n",
       "      <td>0.000000</td>\n",
       "      <td>0.0</td>\n",
       "      <td>0.000000</td>\n",
       "    </tr>\n",
       "    <tr>\n",
       "      <th>25%</th>\n",
       "      <td>4.688889</td>\n",
       "      <td>2.311111</td>\n",
       "      <td>0.600000</td>\n",
       "      <td>5.828200</td>\n",
       "      <td>116.000000</td>\n",
       "      <td>8.339800</td>\n",
       "      <td>0.0</td>\n",
       "      <td>1011.900000</td>\n",
       "    </tr>\n",
       "    <tr>\n",
       "      <th>50%</th>\n",
       "      <td>12.000000</td>\n",
       "      <td>12.000000</td>\n",
       "      <td>0.780000</td>\n",
       "      <td>9.965900</td>\n",
       "      <td>180.000000</td>\n",
       "      <td>10.046400</td>\n",
       "      <td>0.0</td>\n",
       "      <td>1016.450000</td>\n",
       "    </tr>\n",
       "    <tr>\n",
       "      <th>75%</th>\n",
       "      <td>18.838889</td>\n",
       "      <td>18.838889</td>\n",
       "      <td>0.890000</td>\n",
       "      <td>14.135800</td>\n",
       "      <td>290.000000</td>\n",
       "      <td>14.812000</td>\n",
       "      <td>0.0</td>\n",
       "      <td>1021.090000</td>\n",
       "    </tr>\n",
       "    <tr>\n",
       "      <th>max</th>\n",
       "      <td>39.905556</td>\n",
       "      <td>39.344444</td>\n",
       "      <td>1.000000</td>\n",
       "      <td>63.852600</td>\n",
       "      <td>359.000000</td>\n",
       "      <td>16.100000</td>\n",
       "      <td>0.0</td>\n",
       "      <td>1046.380000</td>\n",
       "    </tr>\n",
       "  </tbody>\n",
       "</table>\n",
       "</div>"
      ],
      "text/plain": [
       "       Temperature (C)  Apparent Temperature (C)      Humidity  \\\n",
       "count     96453.000000              96453.000000  96453.000000   \n",
       "mean         11.932678                 10.855029      0.734899   \n",
       "std           9.551546                 10.696847      0.195473   \n",
       "min         -21.822222                -27.716667      0.000000   \n",
       "25%           4.688889                  2.311111      0.600000   \n",
       "50%          12.000000                 12.000000      0.780000   \n",
       "75%          18.838889                 18.838889      0.890000   \n",
       "max          39.905556                 39.344444      1.000000   \n",
       "\n",
       "       Wind Speed (km/h)  Wind Bearing (degrees)  Visibility (km)  Loud Cover  \\\n",
       "count       96453.000000            96453.000000     96453.000000     96453.0   \n",
       "mean           10.810640              187.509232        10.347325         0.0   \n",
       "std             6.913571              107.383428         4.192123         0.0   \n",
       "min             0.000000                0.000000         0.000000         0.0   \n",
       "25%             5.828200              116.000000         8.339800         0.0   \n",
       "50%             9.965900              180.000000        10.046400         0.0   \n",
       "75%            14.135800              290.000000        14.812000         0.0   \n",
       "max            63.852600              359.000000        16.100000         0.0   \n",
       "\n",
       "       Pressure (millibars)  \n",
       "count          96453.000000  \n",
       "mean            1003.235956  \n",
       "std              116.969906  \n",
       "min                0.000000  \n",
       "25%             1011.900000  \n",
       "50%             1016.450000  \n",
       "75%             1021.090000  \n",
       "max             1046.380000  "
      ]
     },
     "execution_count": 6,
     "metadata": {},
     "output_type": "execute_result"
    }
   ],
   "source": [
    "# Basic Data Describe Method\n",
    "Weather_Data_Set.describe()"
   ]
  },
  {
   "cell_type": "code",
   "execution_count": 7,
   "id": "55f25c75",
   "metadata": {
    "hidden": true
   },
   "outputs": [
    {
     "data": {
      "text/plain": [
       "array(['rain', 'snow', nan], dtype=object)"
      ]
     },
     "execution_count": 7,
     "metadata": {},
     "output_type": "execute_result"
    }
   ],
   "source": [
    "# Get a View of unique value in a column from a give dataset e.g Preciption Type\n",
    "Weather_Data_Set['Precip Type'].unique()"
   ]
  },
  {
   "cell_type": "code",
   "execution_count": 8,
   "id": "080c52f5",
   "metadata": {
    "hidden": true
   },
   "outputs": [
    {
     "data": {
      "text/plain": [
       "Formatted Date                0\n",
       "Summary                       0\n",
       "Precip Type                 517\n",
       "Temperature (C)               0\n",
       "Apparent Temperature (C)      0\n",
       "Humidity                      0\n",
       "Wind Speed (km/h)             0\n",
       "Wind Bearing (degrees)        0\n",
       "Visibility (km)               0\n",
       "Loud Cover                    0\n",
       "Pressure (millibars)          0\n",
       "Daily Summary                 0\n",
       "dtype: int64"
      ]
     },
     "execution_count": 8,
     "metadata": {},
     "output_type": "execute_result"
    }
   ],
   "source": [
    "#Get a NULL value from each column\n",
    "Weather_Data_Set.isnull().sum()"
   ]
  },
  {
   "cell_type": "markdown",
   "id": "463bd75e",
   "metadata": {
    "hidden": true
   },
   "source": [
    "###### NB. From the above we can see that on precip type there are about 517 column which are null. We will fill those data with the mean value of that specific column."
   ]
  },
  {
   "cell_type": "code",
   "execution_count": 9,
   "id": "5f6b250f",
   "metadata": {
    "hidden": true
   },
   "outputs": [],
   "source": [
    "Weather_Data_Set['Precip Type'].fillna(method=\"ffill\",inplace=True)"
   ]
  },
  {
   "cell_type": "code",
   "execution_count": 10,
   "id": "208771f8",
   "metadata": {
    "hidden": true
   },
   "outputs": [
    {
     "data": {
      "text/plain": [
       "Formatted Date              0\n",
       "Summary                     0\n",
       "Precip Type                 0\n",
       "Temperature (C)             0\n",
       "Apparent Temperature (C)    0\n",
       "Humidity                    0\n",
       "Wind Speed (km/h)           0\n",
       "Wind Bearing (degrees)      0\n",
       "Visibility (km)             0\n",
       "Loud Cover                  0\n",
       "Pressure (millibars)        0\n",
       "Daily Summary               0\n",
       "dtype: int64"
      ]
     },
     "execution_count": 10,
     "metadata": {},
     "output_type": "execute_result"
    }
   ],
   "source": [
    "Weather_Data_Set.isnull().sum()"
   ]
  },
  {
   "cell_type": "markdown",
   "id": "8c3408de",
   "metadata": {
    "heading_collapsed": true,
    "hidden": true
   },
   "source": [
    "#### NB. As you can see from above data, we can observe that we have successfully fill the data. i.e because as you see from above there is no record of the preciption column that has a null value, because the value of the precip type column is changed from 517 to 0."
   ]
  },
  {
   "cell_type": "markdown",
   "id": "bdb9cd4c",
   "metadata": {
    "heading_collapsed": true,
    "hidden": true
   },
   "source": [
    "### Exploring the dataset in Automated way."
   ]
  },
  {
   "cell_type": "code",
   "execution_count": 11,
   "id": "a415296e",
   "metadata": {
    "hidden": true
   },
   "outputs": [
    {
     "data": {
      "application/vnd.jupyter.widget-view+json": {
       "model_id": "9a9c91f1059d427bb02590ae33705f63",
       "version_major": 2,
       "version_minor": 0
      },
      "text/plain": [
       "Summarize dataset:   0%|          | 0/5 [00:02<?, ?it/s]"
      ]
     },
     "metadata": {},
     "output_type": "display_data"
    },
    {
     "data": {
      "application/vnd.jupyter.widget-view+json": {
       "model_id": "474cf76f434d4d7db959d0e27919a053",
       "version_major": 2,
       "version_minor": 0
      },
      "text/plain": [
       "Generate report structure:   0%|          | 0/1 [00:00<?, ?it/s]"
      ]
     },
     "metadata": {},
     "output_type": "display_data"
    },
    {
     "data": {
      "application/vnd.jupyter.widget-view+json": {
       "model_id": "49305527cd3c479bb623012f6a2f6d24",
       "version_major": 2,
       "version_minor": 0
      },
      "text/plain": [
       "Render HTML:   0%|          | 0/1 [00:00<?, ?it/s]"
      ]
     },
     "metadata": {},
     "output_type": "display_data"
    },
    {
     "data": {
      "application/vnd.jupyter.widget-view+json": {
       "model_id": "1b5acb651cea4c47b44d4d191edad1f7",
       "version_major": 2,
       "version_minor": 0
      },
      "text/plain": [
       "Export report to file:   0%|          | 0/1 [00:00<?, ?it/s]"
      ]
     },
     "metadata": {},
     "output_type": "display_data"
    }
   ],
   "source": [
    "Weather_Data_Set.profile_report()\n",
    "profile =  ProfileReport(Weather_Data_Set,title='Birhan Data Analysis Project',html = { 'style' : {'full_width':True}})\n",
    "profile.to_file(output_file='Birhan_Automated_Data-Analysis_Report.html')"
   ]
  },
  {
   "cell_type": "markdown",
   "id": "f4cf5d47",
   "metadata": {
    "heading_collapsed": true,
    "hide_input": true
   },
   "source": [
    "## Step3: Data Preparation and Analysis"
   ]
  },
  {
   "cell_type": "markdown",
   "id": "3da8e5d2",
   "metadata": {
    "hidden": true
   },
   "source": [
    "### Tasks:\n",
    "           .Provide the basic information about the dataframe.row,columns and types.\n",
    "           .Finding out the different daily weather summary from our dataset.\n",
    "           .Find the number of times when the Preciption type was exactly 'Rain'.\n",
    "           .Find all the unique wind bearings(degrees).\n",
    "           .Find the number of times when the wind speed was was exactly >5 km/h.\n",
    "           .Display and view the humudity and pressure column from the given dataset.\n",
    "           .Get the middle rows from the given dataset.\n",
    "           .What are the first 10 humudity values that are recorded on Feb 07.\n",
    "           .What are the top 10 apparent temperature value and their counts.\n",
    "           .Find all the data values from the given dataset where visibility>15 and windspeed>5.\n",
    "           .What is the mean apparent temprature value in a month using groupby.\n",
    "           .Extract the pressure from the dataset and store it in a new column called 'New_Pressure_Column'.\n",
    "           .Get the maximum temprature record that is recored when the precip type is 'snow'."
   ]
  },
  {
   "cell_type": "code",
   "execution_count": 105,
   "id": "6c09f7cc",
   "metadata": {
    "hidden": true
   },
   "outputs": [
    {
     "name": "stdout",
     "output_type": "stream",
     "text": [
      "<class 'pandas.core.frame.DataFrame'>\n",
      "RangeIndex: 96453 entries, 0 to 96452\n",
      "Data columns (total 12 columns):\n",
      " #   Column                    Non-Null Count  Dtype              \n",
      "---  ------                    --------------  -----              \n",
      " 0   Formatted Date            96453 non-null  datetime64[ns, UTC]\n",
      " 1   Summary                   96453 non-null  object             \n",
      " 2   Precip Type               96453 non-null  object             \n",
      " 3   Temperature (C)           96453 non-null  float64            \n",
      " 4   Apparent Temperature (C)  96453 non-null  float64            \n",
      " 5   Humidity                  96453 non-null  float64            \n",
      " 6   Wind Speed (km/h)         96453 non-null  float64            \n",
      " 7   Wind Bearing (degrees)    96453 non-null  float64            \n",
      " 8   Visibility (km)           96453 non-null  float64            \n",
      " 9   Loud Cover                96453 non-null  float64            \n",
      " 10  Pressure (millibars)      96453 non-null  float64            \n",
      " 11  Daily Summary             96453 non-null  object             \n",
      "dtypes: datetime64[ns, UTC](1), float64(8), object(3)\n",
      "memory usage: 8.8+ MB\n"
     ]
    }
   ],
   "source": [
    "#Providing the basic information about the weather dataset\n",
    "Weather_Data_Set.info()"
   ]
  },
  {
   "cell_type": "code",
   "execution_count": 13,
   "id": "5017163e",
   "metadata": {
    "hidden": true,
    "hide_input": false
   },
   "outputs": [
    {
     "data": {
      "text/plain": [
       "array(['Partly cloudy throughout the day.',\n",
       "       'Mostly cloudy throughout the day.', 'Foggy in the evening.',\n",
       "       'Foggy overnight and breezy in the morning.',\n",
       "       'Overcast throughout the day.', 'Partly cloudy until night.',\n",
       "       'Mostly cloudy until night.',\n",
       "       'Foggy starting overnight continuing until morning.',\n",
       "       'Foggy in the morning.', 'Partly cloudy until evening.',\n",
       "       'Partly cloudy starting in the morning.',\n",
       "       'Mostly cloudy starting overnight continuing until night.',\n",
       "       'Mostly cloudy until evening.',\n",
       "       'Partly cloudy starting in the morning continuing until evening.',\n",
       "       'Partly cloudy starting in the afternoon.',\n",
       "       'Partly cloudy starting overnight.',\n",
       "       'Partly cloudy until morning.',\n",
       "       'Partly cloudy starting overnight continuing until night.',\n",
       "       'Partly cloudy starting in the afternoon continuing until night.',\n",
       "       'Mostly cloudy starting overnight.',\n",
       "       'Partly cloudy until afternoon.',\n",
       "       'Mostly cloudy until night and breezy in the afternoon.',\n",
       "       'Foggy starting in the evening.', 'Foggy throughout the day.',\n",
       "       'Foggy starting in the evening continuing until night.',\n",
       "       'Mostly cloudy until morning.',\n",
       "       'Foggy starting in the morning continuing until evening.',\n",
       "       'Foggy starting overnight continuing until afternoon.',\n",
       "       'Partly cloudy starting in the morning continuing until afternoon.',\n",
       "       'Foggy starting overnight.', 'Foggy until morning.',\n",
       "       'Foggy starting overnight continuing until evening.',\n",
       "       'Foggy starting in the afternoon.',\n",
       "       'Partly cloudy starting overnight continuing until afternoon.',\n",
       "       'Partly cloudy starting in the morning continuing until night.',\n",
       "       'Overcast until night.',\n",
       "       'Mostly cloudy starting overnight continuing until evening.',\n",
       "       'Foggy overnight.', 'Partly cloudy in the morning.',\n",
       "       'Mostly cloudy starting in the morning.',\n",
       "       'Foggy starting in the afternoon continuing until evening.',\n",
       "       'Mostly cloudy until afternoon.',\n",
       "       'Foggy starting overnight continuing until night.',\n",
       "       'Mostly cloudy throughout the day and breezy in the evening.',\n",
       "       'Foggy starting in the morning continuing until afternoon.',\n",
       "       'Partly cloudy in the afternoon.', 'Clear throughout the day.',\n",
       "       'Partly cloudy starting in the afternoon continuing until evening.',\n",
       "       'Partly cloudy overnight.', 'Overcast until evening.',\n",
       "       'Foggy in the morning and breezy starting in the afternoon continuing until night.',\n",
       "       'Breezy starting overnight continuing until afternoon and foggy starting in the morning continuing until evening.',\n",
       "       'Partly cloudy starting overnight continuing until morning.',\n",
       "       'Mostly cloudy throughout the day and breezy in the afternoon.',\n",
       "       'Mostly cloudy starting overnight and breezy in the afternoon.',\n",
       "       'Partly cloudy throughout the day and breezy starting in the morning continuing until night.',\n",
       "       'Mostly cloudy throughout the day and breezy in the morning.',\n",
       "       'Partly cloudy starting in the evening continuing until night.',\n",
       "       'Mostly cloudy until night and breezy starting in the morning continuing until afternoon.',\n",
       "       'Partly cloudy starting in the morning continuing until evening and breezy starting in the morning continuing until afternoon.',\n",
       "       'Partly cloudy throughout the day and breezy starting in the morning continuing until afternoon.',\n",
       "       'Partly cloudy throughout the day and breezy starting in the morning continuing until evening.',\n",
       "       'Foggy until afternoon.',\n",
       "       'Overcast until night and breezy overnight.',\n",
       "       'Breezy until morning and mostly cloudy throughout the day.',\n",
       "       'Mostly cloudy starting in the morning continuing until night.',\n",
       "       'Breezy starting overnight continuing until morning and partly cloudy starting overnight continuing until evening.',\n",
       "       'Partly cloudy in the evening.',\n",
       "       'Mostly cloudy starting overnight continuing until afternoon.',\n",
       "       'Mostly cloudy starting in the morning continuing until afternoon.',\n",
       "       'Mostly cloudy starting in the afternoon.',\n",
       "       'Mostly cloudy starting in the morning continuing until evening.',\n",
       "       'Partly cloudy starting overnight continuing until afternoon and breezy in the afternoon.',\n",
       "       'Partly cloudy starting overnight and breezy in the afternoon.',\n",
       "       'Mostly cloudy starting in the morning and breezy in the evening.',\n",
       "       'Foggy starting in the afternoon continuing until night.',\n",
       "       'Foggy until night.',\n",
       "       'Foggy starting in the morning continuing until night.',\n",
       "       'Foggy until evening.', 'Foggy starting in the morning.',\n",
       "       'Partly cloudy starting overnight continuing until evening.',\n",
       "       'Partly cloudy starting overnight continuing until evening and breezy starting in the morning continuing until evening.',\n",
       "       'Breezy starting overnight continuing until morning and foggy in the evening.',\n",
       "       'Mostly cloudy throughout the day and breezy starting in the morning continuing until evening.',\n",
       "       'Partly cloudy until evening and breezy starting in the morning continuing until afternoon.',\n",
       "       'Mostly cloudy starting in the afternoon continuing until night.',\n",
       "       'Breezy starting overnight continuing until afternoon and mostly cloudy starting overnight continuing until evening.',\n",
       "       'Mostly cloudy throughout the day and windy starting in the morning continuing until evening.',\n",
       "       'Breezy and partly cloudy in the afternoon.',\n",
       "       'Mostly cloudy starting overnight and breezy starting in the morning continuing until afternoon.',\n",
       "       'Partly cloudy until night and breezy starting in the morning continuing until afternoon.',\n",
       "       'Breezy and mostly cloudy overnight.',\n",
       "       'Mostly cloudy throughout the day and breezy overnight.',\n",
       "       'Mostly cloudy throughout the day and breezy starting in the morning continuing until afternoon.',\n",
       "       'Partly cloudy throughout the day and breezy in the morning.',\n",
       "       'Partly cloudy starting in the morning continuing until evening and breezy starting in the afternoon continuing until evening.',\n",
       "       'Partly cloudy throughout the day and breezy starting in the afternoon continuing until evening.',\n",
       "       'Mostly cloudy starting overnight and breezy in the morning.',\n",
       "       'Partly cloudy starting in the afternoon and breezy in the afternoon.',\n",
       "       'Partly cloudy starting in the morning and breezy in the evening.',\n",
       "       'Partly cloudy until evening and breezy in the morning.',\n",
       "       'Partly cloudy starting overnight continuing until evening and breezy starting in the morning continuing until afternoon.',\n",
       "       'Partly cloudy starting overnight continuing until evening and breezy in the evening.',\n",
       "       'Mostly cloudy throughout the day and breezy starting in the evening.',\n",
       "       'Mostly cloudy throughout the day and windy starting in the morning continuing until night.',\n",
       "       'Breezy starting overnight continuing until morning and partly cloudy starting in the morning.',\n",
       "       'Mostly cloudy starting in the morning and breezy overnight.',\n",
       "       'Overcast throughout the day and breezy starting overnight continuing until morning.',\n",
       "       'Partly cloudy throughout the day and breezy in the evening.',\n",
       "       'Mostly cloudy until evening and breezy starting in the morning continuing until afternoon.',\n",
       "       'Mostly cloudy until night and breezy in the evening.',\n",
       "       'Partly cloudy starting in the evening.',\n",
       "       'Overcast starting in the morning.',\n",
       "       'Mostly cloudy starting overnight continuing until evening and breezy starting overnight continuing until morning.',\n",
       "       'Partly cloudy starting overnight continuing until morning and breezy starting in the morning continuing until afternoon.',\n",
       "       'Partly cloudy until evening and breezy starting in the morning continuing until evening.',\n",
       "       'Breezy starting in the morning continuing until afternoon and partly cloudy starting in the morning.',\n",
       "       'Partly cloudy starting in the morning and breezy starting in the afternoon continuing until evening.',\n",
       "       'Mostly cloudy starting overnight continuing until morning.',\n",
       "       'Mostly cloudy throughout the day and breezy starting overnight continuing until afternoon.',\n",
       "       'Breezy starting overnight continuing until morning and foggy overnight.',\n",
       "       'Mostly cloudy throughout the day and breezy starting overnight continuing until morning.',\n",
       "       'Overcast throughout the day and breezy in the morning.',\n",
       "       'Overcast throughout the day and breezy in the evening.',\n",
       "       'Mostly cloudy starting in the morning continuing until night and breezy in the afternoon.',\n",
       "       'Mostly cloudy until night and breezy starting in the evening continuing until night.',\n",
       "       'Partly cloudy until night and breezy in the morning.',\n",
       "       'Partly cloudy until evening and breezy overnight.',\n",
       "       'Partly cloudy starting overnight continuing until night and windy starting in the morning continuing until afternoon.',\n",
       "       'Breezy starting in the morning continuing until afternoon and mostly cloudy starting in the morning.',\n",
       "       'Foggy starting overnight continuing until morning and breezy starting in the evening.',\n",
       "       'Mostly cloudy until night and breezy starting in the afternoon.',\n",
       "       'Foggy in the afternoon.',\n",
       "       'Mostly cloudy until night and breezy starting in the afternoon continuing until night.',\n",
       "       'Foggy starting overnight continuing until morning and breezy starting in the evening continuing until night.',\n",
       "       'Breezy until afternoon and mostly cloudy throughout the day.',\n",
       "       'Mostly cloudy throughout the day and breezy starting in the morning continuing until night.',\n",
       "       'Partly cloudy starting overnight continuing until evening and breezy in the morning.',\n",
       "       'Mostly cloudy starting in the morning and breezy in the afternoon.',\n",
       "       'Mostly cloudy starting overnight continuing until night and breezy starting in the morning continuing until evening.',\n",
       "       'Foggy starting overnight continuing until morning and breezy starting in the morning continuing until afternoon.',\n",
       "       'Mostly cloudy until evening and windy starting in the morning continuing until afternoon.',\n",
       "       'Foggy starting overnight continuing until afternoon and breezy in the morning.',\n",
       "       'Foggy starting in the morning continuing until afternoon and breezy starting in the evening.',\n",
       "       'Partly cloudy starting overnight and breezy starting in the morning continuing until afternoon.',\n",
       "       'Foggy starting overnight continuing until morning and breezy in the afternoon.',\n",
       "       'Mostly cloudy starting overnight and breezy starting in the afternoon continuing until evening.',\n",
       "       'Overcast throughout the day and breezy starting overnight continuing until afternoon.',\n",
       "       'Partly cloudy starting in the morning continuing until evening and breezy in the afternoon.',\n",
       "       'Partly cloudy starting in the morning continuing until night and breezy starting in the afternoon continuing until evening.',\n",
       "       'Mostly cloudy until night and breezy starting in the evening.',\n",
       "       'Breezy in the morning and mostly cloudy starting in the morning.',\n",
       "       'Mostly cloudy until night and breezy starting in the morning continuing until evening.',\n",
       "       'Partly cloudy starting overnight continuing until evening and windy starting in the morning continuing until evening.',\n",
       "       'Breezy in the morning and partly cloudy starting in the evening continuing until night.',\n",
       "       'Partly cloudy overnight and breezy starting in the morning continuing until afternoon.',\n",
       "       'Light rain in the morning.', 'Light rain until morning.',\n",
       "       'Light rain in the morning and afternoon.',\n",
       "       'Partly cloudy starting in the morning continuing until night and breezy starting in the morning continuing until afternoon.',\n",
       "       'Breezy starting in the afternoon continuing until night and mostly cloudy starting in the evening.',\n",
       "       'Mostly cloudy throughout the day and breezy starting in the evening continuing until night.',\n",
       "       'Foggy starting in the afternoon and breezy starting in the afternoon continuing until evening.',\n",
       "       'Breezy and foggy until morning.',\n",
       "       'Mostly cloudy until night and breezy starting overnight continuing until morning.',\n",
       "       'Partly cloudy starting overnight continuing until night and breezy in the morning.',\n",
       "       'Partly cloudy starting overnight continuing until night and breezy in the afternoon.',\n",
       "       'Mostly cloudy starting in the morning and breezy starting in the afternoon continuing until evening.',\n",
       "       'Partly cloudy starting overnight and breezy starting in the evening.',\n",
       "       'Breezy overnight and overcast throughout the day.',\n",
       "       'Partly cloudy until night and breezy in the afternoon.',\n",
       "       'Mostly cloudy starting overnight and breezy starting in the evening.',\n",
       "       'Breezy overnight and partly cloudy until evening.',\n",
       "       'Mostly cloudy starting in the evening.',\n",
       "       'Mostly cloudy throughout the day and breezy starting in the afternoon.',\n",
       "       'Mostly cloudy throughout the day and breezy starting in the afternoon continuing until evening.',\n",
       "       'Mostly cloudy until night and windy starting in the morning continuing until afternoon.',\n",
       "       'Breezy and foggy starting in the evening.',\n",
       "       'Breezy overnight and partly cloudy throughout the day.',\n",
       "       'Overcast throughout the day and breezy starting in the evening.',\n",
       "       'Breezy until evening and foggy in the morning.',\n",
       "       'Breezy overnight and mostly cloudy throughout the day.',\n",
       "       'Partly cloudy until evening and breezy in the afternoon.',\n",
       "       'Partly cloudy starting in the morning and breezy starting in the morning continuing until afternoon.',\n",
       "       'Mostly cloudy until evening and breezy in the evening.',\n",
       "       'Windy in the afternoon.', 'Overcast until morning.',\n",
       "       'Mostly cloudy overnight.',\n",
       "       'Foggy starting in the morning continuing until evening and breezy in the evening.',\n",
       "       'Breezy starting overnight continuing until morning.',\n",
       "       'Breezy starting in the afternoon continuing until evening and foggy starting in the evening.',\n",
       "       'Mostly cloudy until night and breezy overnight.',\n",
       "       'Mostly cloudy starting in the morning and windy in the evening.',\n",
       "       'Partly cloudy throughout the day and windy starting in the morning continuing until afternoon.',\n",
       "       'Breezy until afternoon and overcast throughout the day.',\n",
       "       'Breezy in the morning and foggy in the evening.',\n",
       "       'Breezy starting in the afternoon continuing until evening and foggy in the evening.',\n",
       "       'Breezy starting in the morning continuing until night.',\n",
       "       'Breezy in the morning and mostly cloudy starting in the evening.',\n",
       "       'Mostly cloudy until evening and breezy in the afternoon.',\n",
       "       'Mostly cloudy until night and breezy starting in the afternoon continuing until evening.',\n",
       "       'Mostly cloudy until evening and breezy starting overnight continuing until morning.',\n",
       "       'Overcast throughout the day and breezy in the afternoon.',\n",
       "       'Overcast throughout the day and breezy starting in the morning continuing until evening.',\n",
       "       'Overcast throughout the day and breezy overnight.',\n",
       "       'Overcast starting in the afternoon.',\n",
       "       'Partly cloudy throughout the day and breezy in the afternoon.',\n",
       "       'Light rain starting overnight.',\n",
       "       'Drizzle starting in the evening.', 'Drizzle until morning.',\n",
       "       'Rain throughout the day.', 'Rain until morning.',\n",
       "       'Light rain overnight.', 'Rain until afternoon.'], dtype=object)"
      ]
     },
     "execution_count": 13,
     "metadata": {},
     "output_type": "execute_result"
    }
   ],
   "source": [
    "#Find out the different daily weather condtion\n",
    "Weather_Data_Set['Daily Summary'].unique()"
   ]
  },
  {
   "cell_type": "code",
   "execution_count": 15,
   "id": "7af5f6f0",
   "metadata": {
    "hidden": true
   },
   "outputs": [
    {
     "data": {
      "text/plain": [
       "85741"
      ]
     },
     "execution_count": 15,
     "metadata": {},
     "output_type": "execute_result"
    }
   ],
   "source": [
    "## Finding the no of time when the precip type was exactly rain\n",
    "len(Weather_Data_Set[Weather_Data_Set['Precip Type']=='rain'])"
   ]
  },
  {
   "cell_type": "code",
   "execution_count": 16,
   "id": "7ded4ca9",
   "metadata": {
    "hidden": true
   },
   "outputs": [
    {
     "data": {
      "text/plain": [
       "array([251., 259., 204., 269., 258., 260., 279., 290., 316., 281., 289.,\n",
       "       262., 288., 230., 163., 139., 147., 160., 152., 150., 149., 180.,\n",
       "       161., 135., 141., 151., 169., 170., 187., 179., 162., 159., 168.,\n",
       "        32., 140., 103., 113., 129., 207., 153.,   4., 341.,  15., 348.,\n",
       "       321., 311., 339., 340., 330.,  19., 277.,   9.,   0., 350., 349.,\n",
       "       338., 320., 310., 328.,  20.,  28.,  11., 326., 309., 193., 273.,\n",
       "       300., 307., 319., 318., 243., 177., 172., 142., 130., 359., 166.,\n",
       "       145., 178., 223., 240., 231., 214., 222., 241., 235., 238., 211.,\n",
       "       221., 215., 224., 358.,   8.,  59.,  63.,  65., 146., 305., 327.,\n",
       "       271., 297., 301., 308., 272., 351., 175., 138., 158., 132., 209.,\n",
       "       250., 295., 280., 270., 239., 242., 266., 278., 325., 282., 274.,\n",
       "       255.,  46., 284., 283., 313., 345.,  16., 332.,  12.,  39.,   3.,\n",
       "        33.,  24.,  25.,  31.,  47.,  67.,  60., 144.,  57.,   2.,  18.,\n",
       "        48.,  29., 335., 228., 315.,  40., 143., 133., 136., 355., 123.,\n",
       "       199., 227., 156., 261., 357., 190., 298.,  10., 127.,  81., 120.,\n",
       "       134., 115., 347.,  72.,   7.,   1.,  30., 352., 353.,  85.,  49.,\n",
       "        21.,  23.,  35.,  56., 337., 285., 306.,   6., 116., 197., 275.,\n",
       "       100., 333., 304.,  90.,  58., 157., 329., 268., 317., 210., 226.,\n",
       "       188., 292., 154., 205., 181., 185., 148.,  68., 155., 137.,  95.,\n",
       "        50.,  80.,  83.,  73.,  70., 106.,  94., 117.,  53.,  82., 101.,\n",
       "       102.,  54.,  52.,  38., 128., 164.,  71., 108., 121., 122., 189.,\n",
       "       246., 302., 245., 291., 312., 296., 264.,  41.,  62., 119.,  98.,\n",
       "       124., 299., 173., 176., 194., 171., 183., 167., 229., 303., 212.,\n",
       "       322., 331., 342., 324., 265., 267., 165., 236., 110., 216., 218.,\n",
       "       354.,  75., 186., 249.,  55.,  64.,  17.,   5., 263., 256.,  69.,\n",
       "        89., 200., 112., 192., 287., 237., 213., 220., 217., 202., 208.,\n",
       "       198., 201., 111., 104., 126., 191., 254., 107., 118., 131., 232.,\n",
       "       196., 174., 248., 182., 294., 252., 247., 233., 244., 276., 225.,\n",
       "       234., 219.,  84.,  96., 336., 253., 346., 314., 203.,  13., 343.,\n",
       "       125.,  61.,  79.,  93., 286.,  27., 323., 195.,  87., 105., 206.,\n",
       "        44.,  51.,  36.,  43.,  26.,  74., 109., 356., 334.,  99.,  88.,\n",
       "       257., 293.,  45., 344., 184.,  22.,  42.,  37.,  14.,  34.,  76.,\n",
       "        91.,  86.,  97.,  66., 114.,  77.,  92.,  78.])"
      ]
     },
     "execution_count": 16,
     "metadata": {},
     "output_type": "execute_result"
    }
   ],
   "source": [
    "## Finding all the unique wind bearning value in the dataset\n",
    "Weather_Data_Set['Wind Bearing (degrees)'].unique()"
   ]
  },
  {
   "cell_type": "code",
   "execution_count": 20,
   "id": "fd2d35b4",
   "metadata": {
    "hidden": true
   },
   "outputs": [
    {
     "data": {
      "text/plain": [
       "74553"
      ]
     },
     "execution_count": 20,
     "metadata": {},
     "output_type": "execute_result"
    }
   ],
   "source": [
    "## Finding the no of wind speed values exactly >5 km/h\n",
    "Weather_Data_Set[Weather_Data_Set['Wind Speed (km/h)']>5].value_counts().sum()"
   ]
  },
  {
   "cell_type": "code",
   "execution_count": 33,
   "id": "431baeab",
   "metadata": {
    "hidden": true
   },
   "outputs": [
    {
     "data": {
      "text/html": [
       "<div>\n",
       "<style scoped>\n",
       "    .dataframe tbody tr th:only-of-type {\n",
       "        vertical-align: middle;\n",
       "    }\n",
       "\n",
       "    .dataframe tbody tr th {\n",
       "        vertical-align: top;\n",
       "    }\n",
       "\n",
       "    .dataframe thead th {\n",
       "        text-align: right;\n",
       "    }\n",
       "</style>\n",
       "<table border=\"1\" class=\"dataframe\">\n",
       "  <thead>\n",
       "    <tr style=\"text-align: right;\">\n",
       "      <th></th>\n",
       "      <th>Pressure(millibars)</th>\n",
       "      <th>Humidity</th>\n",
       "    </tr>\n",
       "  </thead>\n",
       "  <tbody>\n",
       "    <tr>\n",
       "      <th>0</th>\n",
       "      <td>1015.13</td>\n",
       "      <td>0.89</td>\n",
       "    </tr>\n",
       "    <tr>\n",
       "      <th>1</th>\n",
       "      <td>1015.63</td>\n",
       "      <td>0.86</td>\n",
       "    </tr>\n",
       "    <tr>\n",
       "      <th>2</th>\n",
       "      <td>1015.94</td>\n",
       "      <td>0.89</td>\n",
       "    </tr>\n",
       "    <tr>\n",
       "      <th>3</th>\n",
       "      <td>1016.41</td>\n",
       "      <td>0.83</td>\n",
       "    </tr>\n",
       "    <tr>\n",
       "      <th>4</th>\n",
       "      <td>1016.51</td>\n",
       "      <td>0.83</td>\n",
       "    </tr>\n",
       "    <tr>\n",
       "      <th>...</th>\n",
       "      <td>...</td>\n",
       "      <td>...</td>\n",
       "    </tr>\n",
       "    <tr>\n",
       "      <th>96448</th>\n",
       "      <td>1014.36</td>\n",
       "      <td>0.43</td>\n",
       "    </tr>\n",
       "    <tr>\n",
       "      <th>96449</th>\n",
       "      <td>1015.16</td>\n",
       "      <td>0.48</td>\n",
       "    </tr>\n",
       "    <tr>\n",
       "      <th>96450</th>\n",
       "      <td>1015.66</td>\n",
       "      <td>0.56</td>\n",
       "    </tr>\n",
       "    <tr>\n",
       "      <th>96451</th>\n",
       "      <td>1015.95</td>\n",
       "      <td>0.60</td>\n",
       "    </tr>\n",
       "    <tr>\n",
       "      <th>96452</th>\n",
       "      <td>1016.16</td>\n",
       "      <td>0.61</td>\n",
       "    </tr>\n",
       "  </tbody>\n",
       "</table>\n",
       "<p>96453 rows × 2 columns</p>\n",
       "</div>"
      ],
      "text/plain": [
       "       Pressure(millibars)  Humidity\n",
       "0                  1015.13      0.89\n",
       "1                  1015.63      0.86\n",
       "2                  1015.94      0.89\n",
       "3                  1016.41      0.83\n",
       "4                  1016.51      0.83\n",
       "...                    ...       ...\n",
       "96448              1014.36      0.43\n",
       "96449              1015.16      0.48\n",
       "96450              1015.66      0.56\n",
       "96451              1015.95      0.60\n",
       "96452              1016.16      0.61\n",
       "\n",
       "[96453 rows x 2 columns]"
      ]
     },
     "execution_count": 33,
     "metadata": {},
     "output_type": "execute_result"
    }
   ],
   "source": [
    "# Display and view the pressure and humudity column from the given dataset\n",
    "Pressure_Column = pd.DataFrame({'Pressure(millibars)':Weather_Data_Set['Pressure (millibars)']})\n",
    "Humdidity_Column = pd.DataFrame({'Humidity':Weather_Data_Set['Humidity']})\n",
    "Combined_Column = Pressure_Column.join(Humdidity_Column)\n",
    "Combined_Column"
   ]
  },
  {
   "cell_type": "code",
   "execution_count": 34,
   "id": "1850b1a5",
   "metadata": {
    "hidden": true
   },
   "outputs": [
    {
     "data": {
      "text/html": [
       "<div>\n",
       "<style scoped>\n",
       "    .dataframe tbody tr th:only-of-type {\n",
       "        vertical-align: middle;\n",
       "    }\n",
       "\n",
       "    .dataframe tbody tr th {\n",
       "        vertical-align: top;\n",
       "    }\n",
       "\n",
       "    .dataframe thead th {\n",
       "        text-align: right;\n",
       "    }\n",
       "</style>\n",
       "<table border=\"1\" class=\"dataframe\">\n",
       "  <thead>\n",
       "    <tr style=\"text-align: right;\">\n",
       "      <th></th>\n",
       "      <th>Formatted Date</th>\n",
       "      <th>Summary</th>\n",
       "      <th>Precip Type</th>\n",
       "      <th>Temperature (C)</th>\n",
       "      <th>Apparent Temperature (C)</th>\n",
       "      <th>Humidity</th>\n",
       "      <th>Wind Speed (km/h)</th>\n",
       "      <th>Wind Bearing (degrees)</th>\n",
       "      <th>Visibility (km)</th>\n",
       "      <th>Loud Cover</th>\n",
       "      <th>Pressure (millibars)</th>\n",
       "      <th>Daily Summary</th>\n",
       "    </tr>\n",
       "  </thead>\n",
       "  <tbody>\n",
       "    <tr>\n",
       "      <th>3000</th>\n",
       "      <td>2006-01-14 00:00:00.000 +0100</td>\n",
       "      <td>Foggy</td>\n",
       "      <td>snow</td>\n",
       "      <td>-0.116667</td>\n",
       "      <td>-2.388889</td>\n",
       "      <td>0.92</td>\n",
       "      <td>6.6332</td>\n",
       "      <td>318.0</td>\n",
       "      <td>2.9463</td>\n",
       "      <td>0.0</td>\n",
       "      <td>1036.66</td>\n",
       "      <td>Mostly cloudy starting overnight continuing un...</td>\n",
       "    </tr>\n",
       "    <tr>\n",
       "      <th>3001</th>\n",
       "      <td>2006-01-14 01:00:00.000 +0100</td>\n",
       "      <td>Clear</td>\n",
       "      <td>snow</td>\n",
       "      <td>-3.605556</td>\n",
       "      <td>-5.850000</td>\n",
       "      <td>0.92</td>\n",
       "      <td>5.3613</td>\n",
       "      <td>35.0</td>\n",
       "      <td>3.6386</td>\n",
       "      <td>0.0</td>\n",
       "      <td>1037.76</td>\n",
       "      <td>Mostly cloudy starting overnight continuing un...</td>\n",
       "    </tr>\n",
       "    <tr>\n",
       "      <th>3002</th>\n",
       "      <td>2006-01-14 02:00:00.000 +0100</td>\n",
       "      <td>Overcast</td>\n",
       "      <td>snow</td>\n",
       "      <td>-0.650000</td>\n",
       "      <td>-2.883333</td>\n",
       "      <td>0.96</td>\n",
       "      <td>6.3112</td>\n",
       "      <td>320.0</td>\n",
       "      <td>3.3971</td>\n",
       "      <td>0.0</td>\n",
       "      <td>1036.48</td>\n",
       "      <td>Mostly cloudy starting overnight continuing un...</td>\n",
       "    </tr>\n",
       "    <tr>\n",
       "      <th>3003</th>\n",
       "      <td>2006-01-14 03:00:00.000 +0100</td>\n",
       "      <td>Overcast</td>\n",
       "      <td>snow</td>\n",
       "      <td>-0.650000</td>\n",
       "      <td>-2.822222</td>\n",
       "      <td>0.92</td>\n",
       "      <td>6.1663</td>\n",
       "      <td>349.0</td>\n",
       "      <td>3.4132</td>\n",
       "      <td>0.0</td>\n",
       "      <td>1036.37</td>\n",
       "      <td>Mostly cloudy starting overnight continuing un...</td>\n",
       "    </tr>\n",
       "    <tr>\n",
       "      <th>3004</th>\n",
       "      <td>2006-01-14 04:00:00.000 +0100</td>\n",
       "      <td>Overcast</td>\n",
       "      <td>snow</td>\n",
       "      <td>-0.605556</td>\n",
       "      <td>-0.605556</td>\n",
       "      <td>0.93</td>\n",
       "      <td>3.2361</td>\n",
       "      <td>344.0</td>\n",
       "      <td>3.3649</td>\n",
       "      <td>0.0</td>\n",
       "      <td>1036.26</td>\n",
       "      <td>Mostly cloudy starting overnight continuing un...</td>\n",
       "    </tr>\n",
       "    <tr>\n",
       "      <th>3005</th>\n",
       "      <td>2006-01-14 05:00:00.000 +0100</td>\n",
       "      <td>Overcast</td>\n",
       "      <td>snow</td>\n",
       "      <td>-0.650000</td>\n",
       "      <td>-0.650000</td>\n",
       "      <td>0.96</td>\n",
       "      <td>3.3488</td>\n",
       "      <td>14.0</td>\n",
       "      <td>3.3971</td>\n",
       "      <td>0.0</td>\n",
       "      <td>1036.06</td>\n",
       "      <td>Mostly cloudy starting overnight continuing un...</td>\n",
       "    </tr>\n",
       "    <tr>\n",
       "      <th>3006</th>\n",
       "      <td>2006-01-14 06:00:00.000 +0100</td>\n",
       "      <td>Overcast</td>\n",
       "      <td>snow</td>\n",
       "      <td>-0.650000</td>\n",
       "      <td>-0.650000</td>\n",
       "      <td>0.92</td>\n",
       "      <td>3.2844</td>\n",
       "      <td>22.0</td>\n",
       "      <td>3.3971</td>\n",
       "      <td>0.0</td>\n",
       "      <td>1036.06</td>\n",
       "      <td>Mostly cloudy starting overnight continuing un...</td>\n",
       "    </tr>\n",
       "    <tr>\n",
       "      <th>3007</th>\n",
       "      <td>2006-01-14 07:00:00.000 +0100</td>\n",
       "      <td>Foggy</td>\n",
       "      <td>snow</td>\n",
       "      <td>-0.172222</td>\n",
       "      <td>-0.172222</td>\n",
       "      <td>0.87</td>\n",
       "      <td>4.2021</td>\n",
       "      <td>56.0</td>\n",
       "      <td>2.9785</td>\n",
       "      <td>0.0</td>\n",
       "      <td>1036.43</td>\n",
       "      <td>Mostly cloudy starting overnight continuing un...</td>\n",
       "    </tr>\n",
       "    <tr>\n",
       "      <th>3008</th>\n",
       "      <td>2006-01-14 08:00:00.000 +0100</td>\n",
       "      <td>Mostly Cloudy</td>\n",
       "      <td>snow</td>\n",
       "      <td>-0.144444</td>\n",
       "      <td>-3.261111</td>\n",
       "      <td>0.86</td>\n",
       "      <td>9.2414</td>\n",
       "      <td>58.0</td>\n",
       "      <td>4.3148</td>\n",
       "      <td>0.0</td>\n",
       "      <td>1036.86</td>\n",
       "      <td>Mostly cloudy starting overnight continuing un...</td>\n",
       "    </tr>\n",
       "    <tr>\n",
       "      <th>3009</th>\n",
       "      <td>2006-01-14 09:00:00.000 +0100</td>\n",
       "      <td>Mostly Cloudy</td>\n",
       "      <td>snow</td>\n",
       "      <td>-0.166667</td>\n",
       "      <td>-2.738889</td>\n",
       "      <td>0.86</td>\n",
       "      <td>7.4543</td>\n",
       "      <td>80.0</td>\n",
       "      <td>4.7656</td>\n",
       "      <td>0.0</td>\n",
       "      <td>1037.07</td>\n",
       "      <td>Mostly cloudy starting overnight continuing un...</td>\n",
       "    </tr>\n",
       "  </tbody>\n",
       "</table>\n",
       "</div>"
      ],
      "text/plain": [
       "                     Formatted Date        Summary Precip Type  \\\n",
       "3000  2006-01-14 00:00:00.000 +0100          Foggy        snow   \n",
       "3001  2006-01-14 01:00:00.000 +0100          Clear        snow   \n",
       "3002  2006-01-14 02:00:00.000 +0100       Overcast        snow   \n",
       "3003  2006-01-14 03:00:00.000 +0100       Overcast        snow   \n",
       "3004  2006-01-14 04:00:00.000 +0100       Overcast        snow   \n",
       "3005  2006-01-14 05:00:00.000 +0100       Overcast        snow   \n",
       "3006  2006-01-14 06:00:00.000 +0100       Overcast        snow   \n",
       "3007  2006-01-14 07:00:00.000 +0100          Foggy        snow   \n",
       "3008  2006-01-14 08:00:00.000 +0100  Mostly Cloudy        snow   \n",
       "3009  2006-01-14 09:00:00.000 +0100  Mostly Cloudy        snow   \n",
       "\n",
       "      Temperature (C)  Apparent Temperature (C)  Humidity  Wind Speed (km/h)  \\\n",
       "3000        -0.116667                 -2.388889      0.92             6.6332   \n",
       "3001        -3.605556                 -5.850000      0.92             5.3613   \n",
       "3002        -0.650000                 -2.883333      0.96             6.3112   \n",
       "3003        -0.650000                 -2.822222      0.92             6.1663   \n",
       "3004        -0.605556                 -0.605556      0.93             3.2361   \n",
       "3005        -0.650000                 -0.650000      0.96             3.3488   \n",
       "3006        -0.650000                 -0.650000      0.92             3.2844   \n",
       "3007        -0.172222                 -0.172222      0.87             4.2021   \n",
       "3008        -0.144444                 -3.261111      0.86             9.2414   \n",
       "3009        -0.166667                 -2.738889      0.86             7.4543   \n",
       "\n",
       "      Wind Bearing (degrees)  Visibility (km)  Loud Cover  \\\n",
       "3000                   318.0           2.9463         0.0   \n",
       "3001                    35.0           3.6386         0.0   \n",
       "3002                   320.0           3.3971         0.0   \n",
       "3003                   349.0           3.4132         0.0   \n",
       "3004                   344.0           3.3649         0.0   \n",
       "3005                    14.0           3.3971         0.0   \n",
       "3006                    22.0           3.3971         0.0   \n",
       "3007                    56.0           2.9785         0.0   \n",
       "3008                    58.0           4.3148         0.0   \n",
       "3009                    80.0           4.7656         0.0   \n",
       "\n",
       "      Pressure (millibars)                                      Daily Summary  \n",
       "3000               1036.66  Mostly cloudy starting overnight continuing un...  \n",
       "3001               1037.76  Mostly cloudy starting overnight continuing un...  \n",
       "3002               1036.48  Mostly cloudy starting overnight continuing un...  \n",
       "3003               1036.37  Mostly cloudy starting overnight continuing un...  \n",
       "3004               1036.26  Mostly cloudy starting overnight continuing un...  \n",
       "3005               1036.06  Mostly cloudy starting overnight continuing un...  \n",
       "3006               1036.06  Mostly cloudy starting overnight continuing un...  \n",
       "3007               1036.43  Mostly cloudy starting overnight continuing un...  \n",
       "3008               1036.86  Mostly cloudy starting overnight continuing un...  \n",
       "3009               1037.07  Mostly cloudy starting overnight continuing un...  "
      ]
     },
     "execution_count": 34,
     "metadata": {},
     "output_type": "execute_result"
    }
   ],
   "source": [
    "# Get the value of the random middle values from a given dataset\n",
    "Weather_Data_Set[3000:3010]"
   ]
  },
  {
   "cell_type": "code",
   "execution_count": 87,
   "id": "05cef905",
   "metadata": {
    "hidden": true
   },
   "outputs": [
    {
     "data": {
      "text/plain": [
       "0.96"
      ]
     },
     "execution_count": 87,
     "metadata": {},
     "output_type": "execute_result"
    }
   ],
   "source": [
    "#What is the humidity value that was recorded on july 07.\n",
    "import datetime\n",
    "Weather_Data_Set['Formatted Date'] = pd.to_datetime(Weather_Data_Set['Formatted Date'],utc=True)\n",
    "Weather_Data_Set.loc[2006-1-14,'Humidity']"
   ]
  },
  {
   "cell_type": "code",
   "execution_count": 89,
   "id": "0580cf4b",
   "metadata": {
    "hidden": true
   },
   "outputs": [
    {
     "data": {
      "text/plain": [
       "12.777778    378\n",
       "17.777778    373\n",
       "13.888889    342\n",
       "17.222222    330\n",
       "12.222222    305\n",
       "15.000000    301\n",
       "16.111111    287\n",
       "11.111111    279\n",
       "22.777778    279\n",
       "20.000000    271\n",
       "Name: Apparent Temperature (C), dtype: int64"
      ]
     },
     "execution_count": 89,
     "metadata": {},
     "output_type": "execute_result"
    }
   ],
   "source": [
    "#What are the top 10 apparent temperature value and their counts.\n",
    "Weather_Data_Set['Apparent Temperature (C)'].value_counts().sort_values(ascending=False).head(10)"
   ]
  },
  {
   "cell_type": "code",
   "execution_count": 104,
   "id": "c6b89ab8",
   "metadata": {
    "hidden": true
   },
   "outputs": [
    {
     "data": {
      "text/html": [
       "<div>\n",
       "<style scoped>\n",
       "    .dataframe tbody tr th:only-of-type {\n",
       "        vertical-align: middle;\n",
       "    }\n",
       "\n",
       "    .dataframe tbody tr th {\n",
       "        vertical-align: top;\n",
       "    }\n",
       "\n",
       "    .dataframe thead th {\n",
       "        text-align: right;\n",
       "    }\n",
       "</style>\n",
       "<table border=\"1\" class=\"dataframe\">\n",
       "  <thead>\n",
       "    <tr style=\"text-align: right;\">\n",
       "      <th></th>\n",
       "      <th>Visibility Data (&gt;15)</th>\n",
       "      <th>Windspeed Data (&gt;5)</th>\n",
       "    </tr>\n",
       "  </thead>\n",
       "  <tbody>\n",
       "    <tr>\n",
       "      <th>0</th>\n",
       "      <td>15.8263</td>\n",
       "      <td>14.1197</td>\n",
       "    </tr>\n",
       "    <tr>\n",
       "      <th>1</th>\n",
       "      <td>15.8263</td>\n",
       "      <td>14.2646</td>\n",
       "    </tr>\n",
       "    <tr>\n",
       "      <th>3</th>\n",
       "      <td>15.8263</td>\n",
       "      <td>14.1036</td>\n",
       "    </tr>\n",
       "    <tr>\n",
       "      <th>4</th>\n",
       "      <td>15.8263</td>\n",
       "      <td>11.0446</td>\n",
       "    </tr>\n",
       "    <tr>\n",
       "      <th>22</th>\n",
       "      <td>15.8263</td>\n",
       "      <td>6.6493</td>\n",
       "    </tr>\n",
       "    <tr>\n",
       "      <th>...</th>\n",
       "      <td>...</td>\n",
       "      <td>...</td>\n",
       "    </tr>\n",
       "    <tr>\n",
       "      <th>96448</th>\n",
       "      <td>16.1000</td>\n",
       "      <td>10.9963</td>\n",
       "    </tr>\n",
       "    <tr>\n",
       "      <th>96449</th>\n",
       "      <td>15.5526</td>\n",
       "      <td>10.0947</td>\n",
       "    </tr>\n",
       "    <tr>\n",
       "      <th>96450</th>\n",
       "      <td>16.1000</td>\n",
       "      <td>8.9838</td>\n",
       "    </tr>\n",
       "    <tr>\n",
       "      <th>96451</th>\n",
       "      <td>16.1000</td>\n",
       "      <td>10.5294</td>\n",
       "    </tr>\n",
       "    <tr>\n",
       "      <th>96452</th>\n",
       "      <td>15.5204</td>\n",
       "      <td>5.8765</td>\n",
       "    </tr>\n",
       "  </tbody>\n",
       "</table>\n",
       "<p>20123 rows × 2 columns</p>\n",
       "</div>"
      ],
      "text/plain": [
       "       Visibility Data (>15)  Windspeed Data (>5)\n",
       "0                    15.8263              14.1197\n",
       "1                    15.8263              14.2646\n",
       "3                    15.8263              14.1036\n",
       "4                    15.8263              11.0446\n",
       "22                   15.8263               6.6493\n",
       "...                      ...                  ...\n",
       "96448                16.1000              10.9963\n",
       "96449                15.5526              10.0947\n",
       "96450                16.1000               8.9838\n",
       "96451                16.1000              10.5294\n",
       "96452                15.5204               5.8765\n",
       "\n",
       "[20123 rows x 2 columns]"
      ]
     },
     "execution_count": 104,
     "metadata": {},
     "output_type": "execute_result"
    }
   ],
   "source": [
    "#Find all the data values from the given dataset where visibility>15 and windspeed>5.\n",
    "Weather_data_Visibility=Weather_Data_Set[Weather_Data_Set['Visibility (km)']>15]\n",
    "Weather_data_Windspeed = Weather_Data_Set[Weather_Data_Set['Wind Speed (km/h)']>5]\n",
    "\n",
    "Visisbility_df = pd.DataFrame({\"Visibility Data (>15)\":Weather_data_Visibility['Visibility (km)']})\n",
    "Windspeed_df = pd.DataFrame({\"Windspeed Data (>5)\":Weather_data_Windspeed['Wind Speed (km/h)']})\n",
    "\n",
    "combined_df =Visisbility_df.join(Windspeed_df)\n",
    "combined_df"
   ]
  },
  {
   "cell_type": "code",
   "execution_count": 124,
   "id": "3bc0a0ad",
   "metadata": {
    "hidden": true
   },
   "outputs": [
    {
     "data": {
      "text/html": [
       "<div>\n",
       "<style scoped>\n",
       "    .dataframe tbody tr th:only-of-type {\n",
       "        vertical-align: middle;\n",
       "    }\n",
       "\n",
       "    .dataframe tbody tr th {\n",
       "        vertical-align: top;\n",
       "    }\n",
       "\n",
       "    .dataframe thead th {\n",
       "        text-align: right;\n",
       "    }\n",
       "</style>\n",
       "<table border=\"1\" class=\"dataframe\">\n",
       "  <thead>\n",
       "    <tr style=\"text-align: right;\">\n",
       "      <th></th>\n",
       "      <th>Apparent Temp</th>\n",
       "      <th>Snow Data</th>\n",
       "    </tr>\n",
       "  </thead>\n",
       "  <tbody>\n",
       "    <tr>\n",
       "      <th>1562</th>\n",
       "      <td>-4.150000</td>\n",
       "      <td>snow</td>\n",
       "    </tr>\n",
       "    <tr>\n",
       "      <th>1563</th>\n",
       "      <td>-4.061111</td>\n",
       "      <td>snow</td>\n",
       "    </tr>\n",
       "    <tr>\n",
       "      <th>1564</th>\n",
       "      <td>-3.477778</td>\n",
       "      <td>snow</td>\n",
       "    </tr>\n",
       "    <tr>\n",
       "      <th>1565</th>\n",
       "      <td>-4.400000</td>\n",
       "      <td>snow</td>\n",
       "    </tr>\n",
       "    <tr>\n",
       "      <th>1566</th>\n",
       "      <td>-4.438889</td>\n",
       "      <td>snow</td>\n",
       "    </tr>\n",
       "    <tr>\n",
       "      <th>...</th>\n",
       "      <td>...</td>\n",
       "      <td>...</td>\n",
       "    </tr>\n",
       "    <tr>\n",
       "      <th>93265</th>\n",
       "      <td>-2.950000</td>\n",
       "      <td>snow</td>\n",
       "    </tr>\n",
       "    <tr>\n",
       "      <th>93266</th>\n",
       "      <td>-1.111111</td>\n",
       "      <td>snow</td>\n",
       "    </tr>\n",
       "    <tr>\n",
       "      <th>93267</th>\n",
       "      <td>-1.044444</td>\n",
       "      <td>snow</td>\n",
       "    </tr>\n",
       "    <tr>\n",
       "      <th>93311</th>\n",
       "      <td>-0.511111</td>\n",
       "      <td>snow</td>\n",
       "    </tr>\n",
       "    <tr>\n",
       "      <th>93506</th>\n",
       "      <td>-2.705556</td>\n",
       "      <td>snow</td>\n",
       "    </tr>\n",
       "  </tbody>\n",
       "</table>\n",
       "<p>10712 rows × 2 columns</p>\n",
       "</div>"
      ],
      "text/plain": [
       "       Apparent Temp Snow Data\n",
       "1562       -4.150000      snow\n",
       "1563       -4.061111      snow\n",
       "1564       -3.477778      snow\n",
       "1565       -4.400000      snow\n",
       "1566       -4.438889      snow\n",
       "...              ...       ...\n",
       "93265      -2.950000      snow\n",
       "93266      -1.111111      snow\n",
       "93267      -1.044444      snow\n",
       "93311      -0.511111      snow\n",
       "93506      -2.705556      snow\n",
       "\n",
       "[10712 rows x 2 columns]"
      ]
     },
     "execution_count": 124,
     "metadata": {},
     "output_type": "execute_result"
    }
   ],
   "source": [
    "#Find the list of the apparent temprature value for Preciption type of 'Snow' using groupby.\n",
    "Data2 = Weather_Data_Set.groupby(\"Precip Type\").get_group('snow')\n",
    "ApparentData = Data2['Apparent Temperature (C)']\n",
    "SnowData = Data2['Precip Type']\n",
    "Total_Data = pd.DataFrame({\"Apparent Temp\":ApparentData,\n",
    "                          \"Snow Data\":SnowData})\n",
    "Total_Data"
   ]
  },
  {
   "cell_type": "code",
   "execution_count": 125,
   "id": "ed875c3d",
   "metadata": {
    "hidden": true
   },
   "outputs": [
    {
     "data": {
      "text/plain": [
       "-6.2498470043979735"
      ]
     },
     "execution_count": 125,
     "metadata": {},
     "output_type": "execute_result"
    }
   ],
   "source": [
    "# Finding the mean value for the above data\n",
    "Total_Data['Apparent Temp'].mean()"
   ]
  },
  {
   "cell_type": "code",
   "execution_count": 130,
   "id": "9ca65b02",
   "metadata": {
    "hidden": true
   },
   "outputs": [
    {
     "data": {
      "text/html": [
       "<div>\n",
       "<style scoped>\n",
       "    .dataframe tbody tr th:only-of-type {\n",
       "        vertical-align: middle;\n",
       "    }\n",
       "\n",
       "    .dataframe tbody tr th {\n",
       "        vertical-align: top;\n",
       "    }\n",
       "\n",
       "    .dataframe thead th {\n",
       "        text-align: right;\n",
       "    }\n",
       "</style>\n",
       "<table border=\"1\" class=\"dataframe\">\n",
       "  <thead>\n",
       "    <tr style=\"text-align: right;\">\n",
       "      <th></th>\n",
       "      <th>Formatted Date</th>\n",
       "      <th>Summary</th>\n",
       "      <th>Precip Type</th>\n",
       "      <th>Temperature (C)</th>\n",
       "      <th>Apparent Temperature (C)</th>\n",
       "      <th>Humidity</th>\n",
       "      <th>Wind Speed (km/h)</th>\n",
       "      <th>Wind Bearing (degrees)</th>\n",
       "      <th>Visibility (km)</th>\n",
       "      <th>Loud Cover</th>\n",
       "      <th>Pressure (millibars)</th>\n",
       "      <th>Daily Summary</th>\n",
       "      <th>New_Pressure_Column</th>\n",
       "    </tr>\n",
       "  </thead>\n",
       "  <tbody>\n",
       "    <tr>\n",
       "      <th>0</th>\n",
       "      <td>2006-03-31 00:00:00+00:00</td>\n",
       "      <td>Partly Cloudy</td>\n",
       "      <td>rain</td>\n",
       "      <td>9.472222</td>\n",
       "      <td>7.388889</td>\n",
       "      <td>0.89</td>\n",
       "      <td>14.1197</td>\n",
       "      <td>251.0</td>\n",
       "      <td>15.8263</td>\n",
       "      <td>0.0</td>\n",
       "      <td>1015.13</td>\n",
       "      <td>Partly cloudy throughout the day.</td>\n",
       "      <td>101513.0</td>\n",
       "    </tr>\n",
       "    <tr>\n",
       "      <th>1</th>\n",
       "      <td>2006-03-31 00:00:00+00:00</td>\n",
       "      <td>Partly Cloudy</td>\n",
       "      <td>rain</td>\n",
       "      <td>9.355556</td>\n",
       "      <td>7.227778</td>\n",
       "      <td>0.86</td>\n",
       "      <td>14.2646</td>\n",
       "      <td>259.0</td>\n",
       "      <td>15.8263</td>\n",
       "      <td>0.0</td>\n",
       "      <td>1015.63</td>\n",
       "      <td>Partly cloudy throughout the day.</td>\n",
       "      <td>101563.0</td>\n",
       "    </tr>\n",
       "  </tbody>\n",
       "</table>\n",
       "</div>"
      ],
      "text/plain": [
       "             Formatted Date        Summary Precip Type  Temperature (C)  \\\n",
       "0 2006-03-31 00:00:00+00:00  Partly Cloudy        rain         9.472222   \n",
       "1 2006-03-31 00:00:00+00:00  Partly Cloudy        rain         9.355556   \n",
       "\n",
       "   Apparent Temperature (C)  Humidity  Wind Speed (km/h)  \\\n",
       "0                  7.388889      0.89            14.1197   \n",
       "1                  7.227778      0.86            14.2646   \n",
       "\n",
       "   Wind Bearing (degrees)  Visibility (km)  Loud Cover  Pressure (millibars)  \\\n",
       "0                   251.0          15.8263         0.0               1015.13   \n",
       "1                   259.0          15.8263         0.0               1015.63   \n",
       "\n",
       "                       Daily Summary  New_Pressure_Column  \n",
       "0  Partly cloudy throughout the day.             101513.0  \n",
       "1  Partly cloudy throughout the day.             101563.0  "
      ]
     },
     "execution_count": 130,
     "metadata": {},
     "output_type": "execute_result"
    }
   ],
   "source": [
    "# Extract the pressure from the dataset and store it in a new column called 'New_Pressure_Column'\n",
    "Weather_Data_Set['New_Pressure_Column'] = Weather_Data_Set['Pressure (millibars)']*100\n",
    "Weather_Data_Set.head(2)"
   ]
  },
  {
   "cell_type": "code",
   "execution_count": 140,
   "id": "2642b615",
   "metadata": {
    "hidden": true
   },
   "outputs": [
    {
     "data": {
      "text/plain": [
       "0.0"
      ]
     },
     "execution_count": 140,
     "metadata": {},
     "output_type": "execute_result"
    }
   ],
   "source": [
    "#Get the maximum temprature record that is recored when the precip type is 'snow'.\n",
    "Data3 = Weather_Data_Set.groupby(\"Precip Type\").get_group('snow')\n",
    "Data3['Temperature (C)'].max()"
   ]
  },
  {
   "cell_type": "markdown",
   "id": "4ea8f2c2",
   "metadata": {
    "heading_collapsed": true
   },
   "source": [
    "## Step4: Further analyis and Deep Dive Data Visualaiztion"
   ]
  },
  {
   "cell_type": "markdown",
   "id": "ed300f2c",
   "metadata": {
    "hidden": true
   },
   "source": [
    "#### Basic tasks to be performed:\n",
    "              .We will try to analyse the data using the visualiztion graphs.\n",
    "              .We will try to visualize the data using charts,histograms and other optional visualization graphs."
   ]
  },
  {
   "cell_type": "code",
   "execution_count": 15,
   "id": "b311e5ed",
   "metadata": {
    "hidden": true
   },
   "outputs": [
    {
     "name": "stderr",
     "output_type": "stream",
     "text": [
      "C:\\Users\\GL\\Desktop\\sample_project_1\\env\\lib\\site-packages\\pywedge\\pywedge.py:27: FutureWarning:\n",
      "\n",
      "In a future version of pandas all arguments of DataFrame.drop except for the argument 'labels' will be keyword-only.\n",
      "\n"
     ]
    }
   ],
   "source": [
    "#Dataset Visualiztion\n",
    "visualyser = py.Pywedge_Charts(Weather_Data_Set,c=None, y='Summary')"
   ]
  },
  {
   "cell_type": "code",
   "execution_count": 16,
   "id": "ff71ec8f",
   "metadata": {
    "hidden": true
   },
   "outputs": [
    {
     "data": {
      "application/vnd.jupyter.widget-view+json": {
       "model_id": "71007b16dfa846a690c27a22da707f6f",
       "version_major": 2,
       "version_minor": 0
      },
      "text/plain": [
       "HTML(value='<h2>Pywedge Make_Charts </h2>')"
      ]
     },
     "metadata": {},
     "output_type": "display_data"
    },
    {
     "data": {
      "application/vnd.jupyter.widget-view+json": {
       "model_id": "0934851379f949bb8ac5c534f8048c82",
       "version_major": 2,
       "version_minor": 0
      },
      "text/plain": [
       "Tab(children=(Output(), Output(), Output(), Output(), Output(), Output(), Output(), Output()), _titles={'0': '…"
      ]
     },
     "metadata": {},
     "output_type": "display_data"
    }
   ],
   "source": [
    "Dataset_Visualiztion_Graphs=visualyser.make_charts()"
   ]
  },
  {
   "cell_type": "code",
   "execution_count": null,
   "id": "731c5c18",
   "metadata": {
    "hidden": true
   },
   "outputs": [],
   "source": []
  }
 ],
 "metadata": {
  "celltoolbar": "Raw Cell Format",
  "hide_input": false,
  "kernelspec": {
   "display_name": "Python 3 (ipykernel)",
   "language": "python",
   "name": "python3"
  },
  "language_info": {
   "codemirror_mode": {
    "name": "ipython",
    "version": 3
   },
   "file_extension": ".py",
   "mimetype": "text/x-python",
   "name": "python",
   "nbconvert_exporter": "python",
   "pygments_lexer": "ipython3",
   "version": "3.10.4"
  }
 },
 "nbformat": 4,
 "nbformat_minor": 5
}
